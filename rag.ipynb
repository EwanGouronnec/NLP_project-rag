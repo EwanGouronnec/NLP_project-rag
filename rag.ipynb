{
 "cells": [
  {
   "cell_type": "markdown",
   "metadata": {},
   "source": [
    "# Mécanismes de RAG avancés"
   ]
  },
  {
   "cell_type": "code",
   "execution_count": 1,
   "metadata": {},
   "outputs": [],
   "source": [
    "from models import Models\n",
    "\n",
    "# Initialize the models\n",
    "models = Models()\n",
    "embeddings = models.embeddings_ollama\n",
    "llm = models.model_ollama"
   ]
  },
  {
   "cell_type": "code",
   "execution_count": 2,
   "metadata": {},
   "outputs": [],
   "source": [
    "from langchain.vectorstores import FAISS\n",
    "\n",
    "# Initialize the vector store\n",
    "new_vector_store = FAISS.load_local(\n",
    "    \"faiss_index\",\n",
    "    embeddings,\n",
    "    allow_dangerous_deserialization=True,\n",
    ")"
   ]
  },
  {
   "cell_type": "code",
   "execution_count": 3,
   "metadata": {},
   "outputs": [],
   "source": [
    "# Define the chat prompt\n",
    "from langchain_core.prompts import ChatPromptTemplate\n",
    "\n",
    "prompt = ChatPromptTemplate.from_messages(\n",
    "    [\n",
    "        (\"system\", \"You are a helpful assistant. Answer the question based only the data provided.\"),\n",
    "        (\"human\", \"Use the user question {input} to answer the question. Use only the {context} to answer the question.\")\n",
    "    ]\n",
    ")"
   ]
  },
  {
   "cell_type": "markdown",
   "metadata": {},
   "source": [
    "Premier test sans mécanisme avancé"
   ]
  },
  {
   "cell_type": "code",
   "execution_count": 4,
   "metadata": {},
   "outputs": [],
   "source": [
    "from langchain.chains.combine_documents import create_stuff_documents_chain\n",
    "from langchain.chains import create_retrieval_chain\n",
    "\n",
    "# Define the retrieval chain\n",
    "retriever = new_vector_store.as_retriever(\n",
    "    search_type=\"similarity\",\n",
    "    search_kwargs={\"k\": 2},\n",
    ")\n",
    "combine_docs_chain = create_stuff_documents_chain(\n",
    "    llm, prompt\n",
    ")\n",
    "retrieval_chain = create_retrieval_chain(retriever, combine_docs_chain)"
   ]
  },
  {
   "cell_type": "code",
   "execution_count": 5,
   "metadata": {},
   "outputs": [
    {
     "data": {
      "text/plain": [
       "{'input': \"What's a good movie about an epic viking?\",\n",
       " 'context': [Document(id='56a385d5-d727-446a-a102-18d4cffa6c92', metadata={'source': 'https://www.imdb.com/title/tt1494639'}, page_content=\"Title: Beowulf\\nTags: psychedelic, avant garde, magical realism\\nPlot: Set in 507, Beowulf is a legendary Geatish warrior who travels to Denmark with his band of soldiers, including his best friend, Wiglaf. They meet King Hrothgar, who needs a hero to slay Grendel, a hideously malformed troll-like creature with appalling strength and cunning. Grendel attacks Heorot, Hrothgar's mead hall, whenever the Danes held a celebration, and Hrothgar has been forced to close the hall. Upon arriving, Beowulf becomes attracted to Hrothgar's wife, Queen Wealtheow, who reciprocates his interest.\"),\n",
       "  Document(id='be508309-deb9-4d04-92cb-f029d2770cc2', metadata={'source': 'https://www.imdb.com/title/tt0064000'}, page_content=\"Title: Alfred the Great\\nTags: action\\nPlot: When the Vikings invade England, Alfred (David Hemmings) is about to take his priesthood vows. However, his brother, King Æthelred of Wessex (Alan Dobie), summons him to his aid and Alfred leaves for battle, where he appears to be a great tactician. Æthelred dies shortly after Alfred marries the Mercian princess Aelhswith (Prunella Ransome). Torn between following intellect or passion, Alfred at first refuses to succeed Æthelred and consummate his marriage, but is forced to accept kingship after the Danes attack again.\\nRealising the weak position of Wessex, Alfred goes into negotiations with Guthrum (Michael York), leader of the Vikings. Aelhswith on the other hand agrees to become Guthrum's hostage and they start to develop feelings for each other.\")],\n",
       " 'answer': 'Based on your interest in an epic Viking movie, I would recommend \"Beowulf\". It is a legendary tale about a Geatish warrior who travels to Denmark to slay Grendel, a monstrous creature that has been terrorizing King Hrothgar\\'s mead hall. The film offers a mix of action, drama, and fantasy elements, making it an exciting watch for fans of epic Viking stories.'}"
      ]
     },
     "execution_count": 5,
     "metadata": {},
     "output_type": "execute_result"
    }
   ],
   "source": [
    "retrieval_chain.invoke({\"input\": \"What's a good movie about an epic viking?\"})"
   ]
  },
  {
   "cell_type": "markdown",
   "metadata": {},
   "source": [
    "# 1. Hybrid Search"
   ]
  },
  {
   "cell_type": "markdown",
   "metadata": {},
   "source": [
    "Hybrid Search avec ensemble Retrieval, issue de [ce blog](https://medium.com/@nadikapoudel16/advanced-rag-implementation-using-hybrid-search-reranking-with-zephyr-alpha-llm-4340b55fef22)\n",
    "\n",
    "[Documentation BM25](https://python.langchain.com/docs/integrations/retrievers/bm25/) sur langchain"
   ]
  },
  {
   "cell_type": "code",
   "execution_count": 6,
   "metadata": {},
   "outputs": [
    {
     "name": "stdout",
     "output_type": "stream",
     "text": [
      "Path to dataset files: C:\\Users\\CYTech Student\\.cache\\kagglehub\\datasets\\cryptexcode\\mpst-movie-plot-synopses-with-tags\\versions\\1\n",
      "14828 movies loaded\n",
      "2966 documents loaded\n",
      "21211 splits created\n"
     ]
    }
   ],
   "source": [
    "from data import load_movie_data, prepare_movie_data, split_movie_data\n",
    "df = load_movie_data()\n",
    "movies = prepare_movie_data(df)\n",
    "text_splits = split_movie_data(movies)"
   ]
  },
  {
   "cell_type": "code",
   "execution_count": 7,
   "metadata": {},
   "outputs": [
    {
     "name": "stdout",
     "output_type": "stream",
     "text": [
      "Requirement already satisfied: rank_bm25 in c:\\users\\cytech student\\appdata\\local\\packages\\pythonsoftwarefoundation.python.3.10_qbz5n2kfra8p0\\localcache\\local-packages\\python310\\site-packages (0.2.2)\n",
      "Requirement already satisfied: numpy in c:\\users\\cytech student\\appdata\\local\\packages\\pythonsoftwarefoundation.python.3.10_qbz5n2kfra8p0\\localcache\\local-packages\\python310\\site-packages (from rank_bm25) (1.26.4)\n",
      "Note: you may need to restart the kernel to use updated packages.\n"
     ]
    }
   ],
   "source": [
    "%pip install rank_bm25"
   ]
  },
  {
   "cell_type": "code",
   "execution_count": 8,
   "metadata": {},
   "outputs": [
    {
     "name": "stderr",
     "output_type": "stream",
     "text": [
      "[nltk_data] Downloading package punkt_tab to C:\\Users\\CYTech\n",
      "[nltk_data]     Student\\AppData\\Roaming\\nltk_data...\n",
      "[nltk_data]   Package punkt_tab is already up-to-date!\n"
     ]
    },
    {
     "data": {
      "text/plain": [
       "True"
      ]
     },
     "execution_count": 8,
     "metadata": {},
     "output_type": "execute_result"
    }
   ],
   "source": [
    "import nltk\n",
    "nltk.download(\"punkt_tab\")"
   ]
  },
  {
   "cell_type": "code",
   "execution_count": 9,
   "metadata": {},
   "outputs": [],
   "source": [
    "from langchain.retrievers import BM25Retriever, EnsembleRetriever\n",
    "from nltk.tokenize import word_tokenize\n",
    "\n",
    "# Define the BM25 retriever\n",
    "keyword_retriever = BM25Retriever.from_documents(\n",
    "    text_splits,\n",
    "    k=2,\n",
    "    preprocess_func=word_tokenize,\n",
    ")\n",
    "\n",
    "# Combine the BM25 and base retrievers\n",
    "ensemble_retriever = EnsembleRetriever(\n",
    "    retrievers=[retriever, keyword_retriever],\n",
    "    weights=[0.5, 0.5]\n",
    ")\n",
    "chain_hybrid = create_retrieval_chain(ensemble_retriever, combine_docs_chain)"
   ]
  },
  {
   "cell_type": "code",
   "execution_count": 10,
   "metadata": {},
   "outputs": [
    {
     "data": {
      "text/plain": [
       "{'input': \"What's a good movie about an epic viking?\",\n",
       " 'context': [Document(id='56a385d5-d727-446a-a102-18d4cffa6c92', metadata={'source': 'https://www.imdb.com/title/tt1494639'}, page_content=\"Title: Beowulf\\nTags: psychedelic, avant garde, magical realism\\nPlot: Set in 507, Beowulf is a legendary Geatish warrior who travels to Denmark with his band of soldiers, including his best friend, Wiglaf. They meet King Hrothgar, who needs a hero to slay Grendel, a hideously malformed troll-like creature with appalling strength and cunning. Grendel attacks Heorot, Hrothgar's mead hall, whenever the Danes held a celebration, and Hrothgar has been forced to close the hall. Upon arriving, Beowulf becomes attracted to Hrothgar's wife, Queen Wealtheow, who reciprocates his interest.\"),\n",
       "  Document(metadata={'source': 'https://www.imdb.com/title/tt0065513'}, page_content='a junction alongside another lorry transporting another hapless man-in-a-box our guy can barely keep a grip as we finally have our suspicions\\nconfirmed and realize that everything is wrong and something sinister is afoot...Who has kidnapped him? Where are they going? What terrible fate is about to befall him?The film is a triumph, telling a simple story with an excellent central performance from the lead that has to deliver a huge range of emotions\\nthrough body language without turning the whole film into an embarrassing pantomime. The photography sets this apart from the usual TV\\nmovie fare and the varied score, which ranges from playful for the comedic opening to apocalyptic during the twisted finale, all help to create a thrill\\nride with a shocking ending that will stay with you for a good while afterwards.'),\n",
       "  Document(id='be508309-deb9-4d04-92cb-f029d2770cc2', metadata={'source': 'https://www.imdb.com/title/tt0064000'}, page_content=\"Title: Alfred the Great\\nTags: action\\nPlot: When the Vikings invade England, Alfred (David Hemmings) is about to take his priesthood vows. However, his brother, King Æthelred of Wessex (Alan Dobie), summons him to his aid and Alfred leaves for battle, where he appears to be a great tactician. Æthelred dies shortly after Alfred marries the Mercian princess Aelhswith (Prunella Ransome). Torn between following intellect or passion, Alfred at first refuses to succeed Æthelred and consummate his marriage, but is forced to accept kingship after the Danes attack again.\\nRealising the weak position of Wessex, Alfred goes into negotiations with Guthrum (Michael York), leader of the Vikings. Aelhswith on the other hand agrees to become Guthrum's hostage and they start to develop feelings for each other.\"),\n",
       "  Document(metadata={'source': 'https://www.imdb.com/title/tt0053472'}, page_content='=== Closing dialogue ===\\nMichel\\'s death scene is one of the most iconic scenes in the film, but the film\\'s final lines of dialogue are the source of some confusion for English-speaking audiences. In some translations, it is unclear whether Michel is condemning Patricia, or alternatively condemning the world in general.\\nAs Patricia and Detective Vital catch up with the dying Michel, they have the following dialogue:\\nMICHEL: C\\'est vraiment dégueulasse.\\nPATRICIA: Qu\\'est-ce qu\\'il a dit?\\nVITAL: Il a dit que vous êtes vraiment \"une dégueulasse\".\\nPATRICIA: Qu\\'est-ce que c\\'est \"dégueulasse\"?\\nIn the English captioning of the 2001 Fox-Lorber Region One DVD, \"dégueulasse\" is translated as \"scumbag\", producing the following dialogue:\\nMICHEL: It\\'s disgusting, really.\\nPATRICIA: What did he say?\\nVITAL: He said, \"You\\'re a real scumbag\".\\nPATRICIA: What\\'s a scumbag?\\nThe 2007 Criterion Collection Region One DVD uses a less literal translation:\\nMICHEL: Makes me want to puke.\\nPATRICIA: What did he say?')],\n",
       " 'answer': 'Based on your interest in an epic Viking movie, I would recommend \"Beowulf\". It\\'s a legendary story about a Geatish warrior who travels to Denmark with his band of soldiers to slay Grendel, a hideously malformed troll-like creature. The film is a triumph, telling a simple yet powerful story with excellent central performances and stunning photography and music.'}"
      ]
     },
     "execution_count": 10,
     "metadata": {},
     "output_type": "execute_result"
    }
   ],
   "source": [
    "chain_hybrid.invoke({\"input\": \"What's a good movie about an epic viking?\"})"
   ]
  },
  {
   "cell_type": "markdown",
   "metadata": {},
   "source": [
    "# 2. Reranking"
   ]
  },
  {
   "cell_type": "markdown",
   "metadata": {},
   "source": [
    "documentation [FlashRank reranker](https://python.langchain.com/docs/integrations/retrievers/flashrank-reranker/) sur le site de LangChain"
   ]
  },
  {
   "cell_type": "markdown",
   "metadata": {},
   "source": [
    "The Contextual Compression Retriever passes queries to the base retriever, takes the initial documents and passes them through the Document Compressor. The Document Compressor takes a list of documents and shortens it by reducing the contents of documents or dropping documents altogether."
   ]
  },
  {
   "cell_type": "code",
   "execution_count": 11,
   "metadata": {},
   "outputs": [
    {
     "name": "stdout",
     "output_type": "stream",
     "text": [
      "Note: you may need to restart the kernel to use updated packages.\n"
     ]
    }
   ],
   "source": [
    "%pip install -qU  flashrank"
   ]
  },
  {
   "cell_type": "code",
   "execution_count": 12,
   "metadata": {},
   "outputs": [],
   "source": [
    "# Reranking with Flashrank\n",
    "\n",
    "from langchain.retrievers.document_compressors import FlashrankRerank\n",
    "from langchain.retrievers import ContextualCompressionRetriever\n",
    "\n",
    "# Compressor for reranking\n",
    "compressor = FlashrankRerank()\n",
    "compression_retriever = ContextualCompressionRetriever(\n",
    "    base_compressor=compressor,\n",
    "    base_retriever=ensemble_retriever,\n",
    ")\n",
    "chain_reranking = create_retrieval_chain(compression_retriever, combine_docs_chain)"
   ]
  },
  {
   "cell_type": "code",
   "execution_count": 13,
   "metadata": {},
   "outputs": [
    {
     "name": "stderr",
     "output_type": "stream",
     "text": [
      "INFO:httpx:HTTP Request: POST http://127.0.0.1:11434/api/embed \"HTTP/1.1 200 OK\"\n",
      "INFO:httpx:HTTP Request: POST http://127.0.0.1:11434/api/chat \"HTTP/1.1 200 OK\"\n"
     ]
    },
    {
     "data": {
      "text/plain": [
       "{'input': \"What's a good movie about an epic viking?\",\n",
       " 'context': [Document(metadata={'id': 1, 'relevance_score': 0.9993699, 'source': 'https://www.imdb.com/title/tt0065513'}, page_content='a junction alongside another lorry transporting another hapless man-in-a-box our guy can barely keep a grip as we finally have our suspicions\\nconfirmed and realize that everything is wrong and something sinister is afoot...Who has kidnapped him? Where are they going? What terrible fate is about to befall him?The film is a triumph, telling a simple story with an excellent central performance from the lead that has to deliver a huge range of emotions\\nthrough body language without turning the whole film into an embarrassing pantomime. The photography sets this apart from the usual TV\\nmovie fare and the varied score, which ranges from playful for the comedic opening to apocalyptic during the twisted finale, all help to create a thrill\\nride with a shocking ending that will stay with you for a good while afterwards.'),\n",
       "  Document(metadata={'id': 2, 'relevance_score': 0.99816483, 'source': 'https://www.imdb.com/title/tt0064000'}, page_content=\"Title: Alfred the Great\\nTags: action\\nPlot: When the Vikings invade England, Alfred (David Hemmings) is about to take his priesthood vows. However, his brother, King Æthelred of Wessex (Alan Dobie), summons him to his aid and Alfred leaves for battle, where he appears to be a great tactician. Æthelred dies shortly after Alfred marries the Mercian princess Aelhswith (Prunella Ransome). Torn between following intellect or passion, Alfred at first refuses to succeed Æthelred and consummate his marriage, but is forced to accept kingship after the Danes attack again.\\nRealising the weak position of Wessex, Alfred goes into negotiations with Guthrum (Michael York), leader of the Vikings. Aelhswith on the other hand agrees to become Guthrum's hostage and they start to develop feelings for each other.\"),\n",
       "  Document(metadata={'id': 0, 'relevance_score': 0.9942946, 'source': 'https://www.imdb.com/title/tt1494639'}, page_content=\"Title: Beowulf\\nTags: psychedelic, avant garde, magical realism\\nPlot: Set in 507, Beowulf is a legendary Geatish warrior who travels to Denmark with his band of soldiers, including his best friend, Wiglaf. They meet King Hrothgar, who needs a hero to slay Grendel, a hideously malformed troll-like creature with appalling strength and cunning. Grendel attacks Heorot, Hrothgar's mead hall, whenever the Danes held a celebration, and Hrothgar has been forced to close the hall. Upon arriving, Beowulf becomes attracted to Hrothgar's wife, Queen Wealtheow, who reciprocates his interest.\")],\n",
       " 'answer': 'Based on your question \"What\\'s a good movie about an epic Viking?\", I would recommend \"Alfred the Great\". This film tells the story of Alfred, a young priest who becomes king after his brother\\'s death and must navigate the complexities of war, politics, and romance with a Viking leader. The film features excellent performances, particularly from David Hemmings as Alfred, and has a unique blend of action, drama, and humor.'}"
      ]
     },
     "execution_count": 13,
     "metadata": {},
     "output_type": "execute_result"
    }
   ],
   "source": [
    "chain_reranking.invoke({\"input\": \"What's a good movie about an epic viking?\"})"
   ]
  }
 ],
 "metadata": {
  "kernelspec": {
   "display_name": "Python 3",
   "language": "python",
   "name": "python3"
  },
  "language_info": {
   "codemirror_mode": {
    "name": "ipython",
    "version": 3
   },
   "file_extension": ".py",
   "mimetype": "text/x-python",
   "name": "python",
   "nbconvert_exporter": "python",
   "pygments_lexer": "ipython3",
   "version": "3.10.11"
  }
 },
 "nbformat": 4,
 "nbformat_minor": 2
}
