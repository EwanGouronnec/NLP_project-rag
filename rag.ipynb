{
 "cells": [
  {
   "cell_type": "markdown",
   "metadata": {},
   "source": [
    "# Mécanismes de RAG avancés"
   ]
  },
  {
   "cell_type": "code",
   "execution_count": 3,
   "metadata": {},
   "outputs": [],
   "source": [
    "from models import Models\n",
    "\n",
    "# Initialize the models\n",
    "models = Models()\n",
    "embeddings = models.embeddings_ollama\n",
    "llm = models.model_ollama"
   ]
  },
  {
   "cell_type": "code",
   "execution_count": 4,
   "metadata": {},
   "outputs": [],
   "source": [
    "from langchain.vectorstores import FAISS\n",
    "\n",
    "# Initialize the vector store\n",
    "new_vector_store = FAISS.load_local(\n",
    "    \"faiss_index\",\n",
    "    embeddings,\n",
    "    allow_dangerous_deserialization=True,\n",
    ")"
   ]
  },
  {
   "cell_type": "code",
   "execution_count": 5,
   "metadata": {},
   "outputs": [],
   "source": [
    "# Define the chat prompt\n",
    "from langchain_core.prompts import ChatPromptTemplate\n",
    "\n",
    "prompt = ChatPromptTemplate.from_messages(\n",
    "    [\n",
    "        (\"system\", \"You are a helpful assistant. Answer the question based only the data provided.\"),\n",
    "        (\"human\", \"Use the user question {input} to answer the question. Use only the {context} to answer the question.\")\n",
    "    ]\n",
    ")"
   ]
  },
  {
   "cell_type": "markdown",
   "metadata": {},
   "source": [
    "Premier test sans mécanisme avancé"
   ]
  },
  {
   "cell_type": "code",
   "execution_count": 6,
   "metadata": {},
   "outputs": [],
   "source": [
    "from langchain.chains.combine_documents import create_stuff_documents_chain\n",
    "from langchain.chains import create_retrieval_chain\n",
    "\n",
    "# Define the retrieval chain\n",
    "retriever = new_vector_store.as_retriever(\n",
    "    search_type=\"similarity\",\n",
    "    search_kwargs={\"k\": 10},\n",
    ")\n",
    "combine_docs_chain = create_stuff_documents_chain(\n",
    "    llm, prompt\n",
    ")\n",
    "retrieval_chain = create_retrieval_chain(retriever, combine_docs_chain)"
   ]
  },
  {
   "cell_type": "code",
   "execution_count": null,
   "metadata": {},
   "outputs": [
    {
     "data": {
      "text/plain": [
       "{'input': \"What's a good movie about an epic viking?\",\n",
       " 'context': [Document(id='56a385d5-d727-446a-a102-18d4cffa6c92', metadata={'source': 'https://www.imdb.com/title/tt1494639'}, page_content=\"Title: Beowulf\\nTags: psychedelic, avant garde, magical realism\\nPlot: Set in 507, Beowulf is a legendary Geatish warrior who travels to Denmark with his band of soldiers, including his best friend, Wiglaf. They meet King Hrothgar, who needs a hero to slay Grendel, a hideously malformed troll-like creature with appalling strength and cunning. Grendel attacks Heorot, Hrothgar's mead hall, whenever the Danes held a celebration, and Hrothgar has been forced to close the hall. Upon arriving, Beowulf becomes attracted to Hrothgar's wife, Queen Wealtheow, who reciprocates his interest.\"),\n",
       "  Document(id='be508309-deb9-4d04-92cb-f029d2770cc2', metadata={'source': 'https://www.imdb.com/title/tt0064000'}, page_content=\"Title: Alfred the Great\\nTags: action\\nPlot: When the Vikings invade England, Alfred (David Hemmings) is about to take his priesthood vows. However, his brother, King Æthelred of Wessex (Alan Dobie), summons him to his aid and Alfred leaves for battle, where he appears to be a great tactician. Æthelred dies shortly after Alfred marries the Mercian princess Aelhswith (Prunella Ransome). Torn between following intellect or passion, Alfred at first refuses to succeed Æthelred and consummate his marriage, but is forced to accept kingship after the Danes attack again.\\nRealising the weak position of Wessex, Alfred goes into negotiations with Guthrum (Michael York), leader of the Vikings. Aelhswith on the other hand agrees to become Guthrum's hostage and they start to develop feelings for each other.\"),\n",
       "  Document(id='a59da9ad-7411-4164-a603-9b494bb690f3', metadata={'source': 'https://www.imdb.com/title/tt1494639'}, page_content=\"As the new king, Wiglaf gives Beowulf a Norse funeral. Grendel's mother appears and gives Beowulf a final kiss before his burning ship sinks into the sea. Wiglaf sees the golden horn washed by the waves of the sea in the sand while Grendel's mother floats in the sea, looking at him seductively. The movie ends ambiguously with Wiglaf holding the horn and staring back at her.\"),\n",
       "  Document(id='09c4e0e0-ef37-4f68-b114-0a702dda1ba6', metadata={'source': 'https://www.imdb.com/title/tt0862467'}, page_content='Plot: Part I WrathA mysterious mute Norse warrior only known as One-Eye (Mads Mikkelsen), is held captive up above in misty highlands by a Chieftain (Alexander Morton), where he is forced to fight to the death against other tattooed men. While One-Eye is imprisoned, a young boy tends to him regularly, bringing him food and water. One-Eye is shown to have the ability to foresee events in his dreams; a dream of him bathing in a pond leads him to discover an arrowhead on the bottom of a water bed. Using the arrowhead, he breaks free, slaughters everyone except for The Boy and a warrior who he lets escape, and places the head of the chieftain on a stake.Part II Silent WarriorWhile leaving the land, One-Eye soon realizes that The Boy is pursuing him in curiosity. Together, they reach a small band of Crusaders who have just razed a village. The Crusaders are Christians ready to embark on a crusade to Jerusalem. The leader of the group, The General (Ewan Stewart), asks One-Eye to join him.'),\n",
       "  Document(id='19077076-636c-4c43-8074-e909f41addea', metadata={'source': 'https://www.imdb.com/title/tt0371552'}, page_content='Plot: As the story begins, the Vikings are depressed because in raid after raid they find the locations devoid of people. Cryptograf, an advisor to Viking chief Timandahaf, says that the enemies are always gone because, \"Fear gives them wings\". Timandahaf excitedly concludes that they must find a \"Champion of Fear\", who can teach them to be great cowards so they can fly, making them invincible. The chief says he\\'ll give anything to whoever can bring him this Champion of Fear. Cryptograf hatches a secret plan to seize power and tells the chief they\\'ll find the Champion of Fear in Gaul.During a typical day in the Gaulish village, chief Vitalstatistix announces the imminent arrival of his nephew Justforkix, who is to be trained to be a man. When Justforkix arrives from Parisium, he doesn\\'t look like warrior material. He uses his bird SMS (Shortmessageservix) to send messages to his \"babes\". Besides chasing girls, he\\'s into hi-tech, nightlife, and dancing and he\\'s a vegetarian, much to'),\n",
       "  Document(id='10161ea3-5e6b-4301-bf65-037eb4438e37', metadata={'source': 'https://www.imdb.com/title/tt1981115'}, page_content=\"Title: Thor: The Dark World\\nTags: murder, violence, flashback, good versus evil, psychedelic, humor, revenge\\nPlot: Eons ago, Bor, father of Odin, clashes with the Dark Elf Malekith, who seeks to unleash a weapon known as the Aether on the nine realms. After conquering Malekith's forces, including enhanced warriors called the Kursed, on their home world of Svartalfheim, Bor safeguards the Aether within a stone column. Unbeknownst to Bor, Malekith, his lieutenant Algrim, and a handful of Dark Elves escape into suspended animation.\"),\n",
       "  Document(id='3a160052-ee56-4d19-9f46-1e36ab1e8d57', metadata={'source': 'https://www.imdb.com/title/tt0955308'}, page_content=\"Plot: The film opens in the middle of the night as the Sherwood robbers run through the forest. The robbers run through Nottingham and put their horses into a stable. Lady Marion (Cate Blanchett), wife of Sir Robert Loxley, rouses her servants and demands that they open the gates. Taking an arrow and setting it aflame, she shoots it at the feet of one of the robbers and tells them that she can see them. After they leave, she realizes that the seeds and grain of Nottingham were stolen and that they won't have anything to plant come spring.Robin Longstride (Russell Crowe) leads his men through the forest back to their own camp. When he fought in the Crusades, Robin was only an archer. As English troops lead an assault on a French stronghold, Robin and his men fight valiantly alongside King Richard the Lionheart (Danny Huston). A young archer attempts to plant a bomb bag on the portcullis but gets stuck. Robin races to him and rescues him before the French can kill him. Robin then\"),\n",
       "  Document(id='90ec4fa9-6ff1-4eca-ae1d-e69f4039e65e', metadata={'source': 'https://www.imdb.com/title/tt0799949'}, page_content='Title: Epic Movie\\nTags: fantasy, murder, stupid, bleak, cult, violence, flashback, humor, entertaining'),\n",
       "  Document(id='bce7f28e-079f-462a-9802-0b6d584b655f', metadata={'source': 'https://www.imdb.com/title/tt0199481'}, page_content=\"Plot: In the year 60 B.C. a group of Druids, including the arch-druid Guttuart (Max von Sydow), witness the passing of a comet and interpret it as the sign of the coming of a king for their country Gaul, which has not had a king for a long time. Guttuart goes to Gergovia, the capital of the Arvernes tribe, to attend a meeting of Gallic tribal chieftains. The young boy Vercingetorix, along with his friend the young girl Eponia, sneak into a large cavern where Celtill, Vercingetorix's father and chieftain of the Arvernes, hosts the meeting of chieftains with the intention of proclaiming himself king of all Gauls. When Celtill shows off the crown once worn by the old kings of Gaul, an arrow from two Roman spies (dressed as Gauls) hits Celtill in the back. Gobanittio, Celtill's brother, places Celtill under arrest while the Roman spies flee with the crown. Vercingetorix tries to rush in to help his father, but Guttuart prevents the young boy from intervening and explains that destiny\"),\n",
       "  Document(id='6c40b689-2cad-4cde-96e4-4e115ec7233a', metadata={'source': 'https://www.imdb.com/title/tt0060125'}, page_content=\"Title: L'armata Brancaleone\\nTags: cult\\nPlot: The movie opens with a small Italian village being stormed by a band of Hungarian pillagers. When the murders and rapes are over, a German knight arrives and bravely kills the bandits. However, as he is healing his wounds he is attacked by two of the surviving villagers and one of the thieves. They throw the wounded knight into a river.\\nThe attackers try to sell the knight's armor and weapons to a miserly Jewish merchant who finds among his belongings a letter of donation by the Holy Roman Emperor, granting the knight the fief of Aurocastro, an Apulian town. The parchment is torn at the lower end, which refers to a condition the knight must fulfill to enjoy the donation.\")],\n",
       " 'answer': 'Based on your question \"What\\'s a good movie about an epic Viking?\", I would recommend:\\n\\n**Beowulf**\\n\\nThis classic film tells the story of Beowulf, a legendary Geatish warrior who travels to Denmark with his band of soldiers to slay Grendel, a hideously malformed troll-like creature. The movie is known for its action-packed sequences, stunning visuals, and epic battles.\\n\\nWhile not all the movies listed are specifically about Vikings, **Beowulf** is one of the most iconic and well-known stories about an epic Viking warrior.'}"
      ]
     },
     "metadata": {},
     "output_type": "display_data"
    }
   ],
   "source": [
    "retrieval_chain.invoke({\"input\": \"What's a good movie about an epic viking?\"})"
   ]
  },
  {
   "cell_type": "markdown",
   "metadata": {},
   "source": [
    "# 1. Reranking"
   ]
  },
  {
   "cell_type": "markdown",
   "metadata": {},
   "source": [
    "documentation [FlashRank reranker](https://python.langchain.com/docs/integrations/retrievers/flashrank-reranker/) sur le site de LangChain"
   ]
  },
  {
   "cell_type": "markdown",
   "metadata": {},
   "source": [
    "The Contextual Compression Retriever passes queries to the base retriever, takes the initial documents and passes them through the Document Compressor. The Document Compressor takes a list of documents and shortens it by reducing the contents of documents or dropping documents altogether."
   ]
  },
  {
   "cell_type": "code",
   "execution_count": 6,
   "metadata": {},
   "outputs": [
    {
     "name": "stdout",
     "output_type": "stream",
     "text": [
      "Note: you may need to restart the kernel to use updated packages.\n"
     ]
    }
   ],
   "source": [
    "%pip install -qU  flashrank"
   ]
  },
  {
   "cell_type": "code",
   "execution_count": 7,
   "metadata": {},
   "outputs": [],
   "source": [
    "# Reranking with Flashrank\n",
    "\n",
    "from langchain.retrievers.document_compressors import FlashrankRerank\n",
    "from langchain.retrievers import ContextualCompressionRetriever\n",
    "\n",
    "# Compressor for reranking\n",
    "compressor = FlashrankRerank()\n",
    "compression_retriever = ContextualCompressionRetriever(\n",
    "    base_compressor=compressor,\n",
    "    base_retriever=retriever\n",
    ")\n",
    "chain_reranking = create_retrieval_chain(compression_retriever, combine_docs_chain)"
   ]
  },
  {
   "cell_type": "code",
   "execution_count": 7,
   "metadata": {},
   "outputs": [
    {
     "name": "stderr",
     "output_type": "stream",
     "text": [
      "INFO:httpx:HTTP Request: POST http://127.0.0.1:11434/api/embed \"HTTP/1.1 200 OK\"\n",
      "INFO:httpx:HTTP Request: POST http://127.0.0.1:11434/api/chat \"HTTP/1.1 200 OK\"\n"
     ]
    },
    {
     "data": {
      "text/plain": [
       "{'input': \"What's a good movie about an epic viking?\",\n",
       " 'context': [Document(metadata={'id': 4, 'relevance_score': 0.9985577, 'source': 'https://www.imdb.com/title/tt0371552'}, page_content='Plot: As the story begins, the Vikings are depressed because in raid after raid they find the locations devoid of people. Cryptograf, an advisor to Viking chief Timandahaf, says that the enemies are always gone because, \"Fear gives them wings\". Timandahaf excitedly concludes that they must find a \"Champion of Fear\", who can teach them to be great cowards so they can fly, making them invincible. The chief says he\\'ll give anything to whoever can bring him this Champion of Fear. Cryptograf hatches a secret plan to seize power and tells the chief they\\'ll find the Champion of Fear in Gaul.During a typical day in the Gaulish village, chief Vitalstatistix announces the imminent arrival of his nephew Justforkix, who is to be trained to be a man. When Justforkix arrives from Parisium, he doesn\\'t look like warrior material. He uses his bird SMS (Shortmessageservix) to send messages to his \"babes\". Besides chasing girls, he\\'s into hi-tech, nightlife, and dancing and he\\'s a vegetarian, much to'),\n",
       "  Document(metadata={'id': 1, 'relevance_score': 0.9984169, 'source': 'https://www.imdb.com/title/tt0064000'}, page_content=\"Title: Alfred the Great\\nTags: action\\nPlot: When the Vikings invade England, Alfred (David Hemmings) is about to take his priesthood vows. However, his brother, King Æthelred of Wessex (Alan Dobie), summons him to his aid and Alfred leaves for battle, where he appears to be a great tactician. Æthelred dies shortly after Alfred marries the Mercian princess Aelhswith (Prunella Ransome). Torn between following intellect or passion, Alfred at first refuses to succeed Æthelred and consummate his marriage, but is forced to accept kingship after the Danes attack again.\\nRealising the weak position of Wessex, Alfred goes into negotiations with Guthrum (Michael York), leader of the Vikings. Aelhswith on the other hand agrees to become Guthrum's hostage and they start to develop feelings for each other.\"),\n",
       "  Document(metadata={'id': 6, 'relevance_score': 0.9965428, 'source': 'https://www.imdb.com/title/tt0955308'}, page_content=\"Plot: The film opens in the middle of the night as the Sherwood robbers run through the forest. The robbers run through Nottingham and put their horses into a stable. Lady Marion (Cate Blanchett), wife of Sir Robert Loxley, rouses her servants and demands that they open the gates. Taking an arrow and setting it aflame, she shoots it at the feet of one of the robbers and tells them that she can see them. After they leave, she realizes that the seeds and grain of Nottingham were stolen and that they won't have anything to plant come spring.Robin Longstride (Russell Crowe) leads his men through the forest back to their own camp. When he fought in the Crusades, Robin was only an archer. As English troops lead an assault on a French stronghold, Robin and his men fight valiantly alongside King Richard the Lionheart (Danny Huston). A young archer attempts to plant a bomb bag on the portcullis but gets stuck. Robin races to him and rescues him before the French can kill him. Robin then\")],\n",
       " 'answer': 'Based on your interest in an epic Viking movie, I\\'d recommend \"Robin Hood: Prince of Thieves\" (1991). While it\\'s not exclusively about a Viking, it features Russell Crowe as Robin Longstride, an English archer who fights alongside King Richard the Lionheart during the Crusades. The film has plenty of action-packed scenes and epic battles that might scratch your Viking itch.\\n\\nHowever, if you\\'re looking for a more traditional Viking movie experience, I\\'d suggest \"Alfred the Great\" (1969). This historical drama tells the story of Alfred, an English king who must navigate the complexities of war, politics, and personal relationships. The film features Michael York as Guthrum, a Viking leader, and explores themes of power, loyalty, and identity.\\n\\nBoth movies offer a unique take on the Viking era, but if you\\'re looking for something more action-oriented, \"Robin Hood: Prince of Thieves\" might be the better choice.'}"
      ]
     },
     "execution_count": 7,
     "metadata": {},
     "output_type": "execute_result"
    }
   ],
   "source": [
    "chain_reranking.invoke({\"input\": \"What's a good movie about an epic viking?\"})"
   ]
  },
  {
   "cell_type": "markdown",
   "metadata": {},
   "source": [
    "# 2. Hybrid Search"
   ]
  },
  {
   "cell_type": "markdown",
   "metadata": {},
   "source": [
    "Hybrid Search avec ensemble Retrieval, issue de [ce blog](https://medium.com/@nadikapoudel16/advanced-rag-implementation-using-hybrid-search-reranking-with-zephyr-alpha-llm-4340b55fef22)"
   ]
  },
  {
   "cell_type": "code",
   "execution_count": 1,
   "metadata": {},
   "outputs": [
    {
     "name": "stdout",
     "output_type": "stream",
     "text": [
      "Path to dataset files: C:\\Users\\CYTech Student\\.cache\\kagglehub\\datasets\\cryptexcode\\mpst-movie-plot-synopses-with-tags\\versions\\1\n",
      "14828 movies loaded\n",
      "2966 documents loaded\n",
      "21211 splits created\n"
     ]
    }
   ],
   "source": [
    "from data import load_movie_data, prepare_movie_data, split_movie_data\n",
    "df = load_movie_data()\n",
    "movies = prepare_movie_data(df)\n",
    "text_splits = split_movie_data(movies)"
   ]
  },
  {
   "cell_type": "code",
   "execution_count": 4,
   "metadata": {},
   "outputs": [
    {
     "name": "stdout",
     "output_type": "stream",
     "text": [
      "Collecting rank_bm25\n",
      "  Downloading rank_bm25-0.2.2-py3-none-any.whl.metadata (3.2 kB)\n",
      "Requirement already satisfied: numpy in c:\\users\\cytech student\\appdata\\local\\packages\\pythonsoftwarefoundation.python.3.10_qbz5n2kfra8p0\\localcache\\local-packages\\python310\\site-packages (from rank_bm25) (1.26.4)\n",
      "Downloading rank_bm25-0.2.2-py3-none-any.whl (8.6 kB)\n",
      "Installing collected packages: rank_bm25\n",
      "Successfully installed rank_bm25-0.2.2\n",
      "Note: you may need to restart the kernel to use updated packages.\n"
     ]
    }
   ],
   "source": [
    "%pip install rank_bm25"
   ]
  },
  {
   "cell_type": "code",
   "execution_count": 9,
   "metadata": {},
   "outputs": [],
   "source": [
    "from langchain.retrievers import BM25Retriever, EnsembleRetriever\n",
    "\n",
    "# Define the BM25 retriever\n",
    "keyword_retriever = BM25Retriever.from_documents(text_splits)\n",
    "keyword_retriever.k = 10\n",
    "\n",
    "# Combine the BM25 and Flashrank retrievers\n",
    "ensemble_retriever = EnsembleRetriever(\n",
    "    retrievers=[compression_retriever, keyword_retriever],\n",
    "    weights=[0.5, 0.5]\n",
    ")\n",
    "chain_hybrid = create_retrieval_chain(ensemble_retriever, combine_docs_chain)"
   ]
  },
  {
   "cell_type": "code",
   "execution_count": 10,
   "metadata": {},
   "outputs": [
    {
     "name": "stderr",
     "output_type": "stream",
     "text": [
      "INFO:httpx:HTTP Request: POST http://127.0.0.1:11434/api/embed \"HTTP/1.1 200 OK\"\n",
      "INFO:httpx:HTTP Request: POST http://127.0.0.1:11434/api/chat \"HTTP/1.1 200 OK\"\n"
     ]
    },
    {
     "data": {
      "text/plain": [
       "{'input': \"What's a good movie about an epic viking?\",\n",
       " 'context': [Document(metadata={'id': 4, 'relevance_score': 0.9985577, 'source': 'https://www.imdb.com/title/tt0371552'}, page_content='Plot: As the story begins, the Vikings are depressed because in raid after raid they find the locations devoid of people. Cryptograf, an advisor to Viking chief Timandahaf, says that the enemies are always gone because, \"Fear gives them wings\". Timandahaf excitedly concludes that they must find a \"Champion of Fear\", who can teach them to be great cowards so they can fly, making them invincible. The chief says he\\'ll give anything to whoever can bring him this Champion of Fear. Cryptograf hatches a secret plan to seize power and tells the chief they\\'ll find the Champion of Fear in Gaul.During a typical day in the Gaulish village, chief Vitalstatistix announces the imminent arrival of his nephew Justforkix, who is to be trained to be a man. When Justforkix arrives from Parisium, he doesn\\'t look like warrior material. He uses his bird SMS (Shortmessageservix) to send messages to his \"babes\". Besides chasing girls, he\\'s into hi-tech, nightlife, and dancing and he\\'s a vegetarian, much to'),\n",
       "  Document(metadata={'source': 'https://www.imdb.com/title/tt0114134'}, page_content='Frightened but very intrigued by Jerome\\'s suggestion, Nagiko has several one-night stands in which she experiments writing on their bodies. One of the activists, admirer Hoki, a Japanese photographer who adores her, begs Nagiko to take him as a lover. She explains she can\\'t, as his skin\\'s no good for writing: whenever she writes on him, the ink smears and runs. Hoki, not wanting Nagiko to keep carrying on like she is, suggests she try writing a book, offering to take it to a renowned publisher he freelances for. Nagiko likes this idea and writes her first book.\\nNagiko\\'s book is returned, being told the book is \"not worth the paper it\\'s written on!\". Insulted, Nagiko follows the address on the envelope to confront the publisher. Nagiko is shocked to discover that the publisher who rejected her work is in fact Yaji-san, her father\\'s old publisher. What\\'s more, the publisher has a young lover: Jerome.'),\n",
       "  Document(metadata={'id': 1, 'relevance_score': 0.9984169, 'source': 'https://www.imdb.com/title/tt0064000'}, page_content=\"Title: Alfred the Great\\nTags: action\\nPlot: When the Vikings invade England, Alfred (David Hemmings) is about to take his priesthood vows. However, his brother, King Æthelred of Wessex (Alan Dobie), summons him to his aid and Alfred leaves for battle, where he appears to be a great tactician. Æthelred dies shortly after Alfred marries the Mercian princess Aelhswith (Prunella Ransome). Torn between following intellect or passion, Alfred at first refuses to succeed Æthelred and consummate his marriage, but is forced to accept kingship after the Danes attack again.\\nRealising the weak position of Wessex, Alfred goes into negotiations with Guthrum (Michael York), leader of the Vikings. Aelhswith on the other hand agrees to become Guthrum's hostage and they start to develop feelings for each other.\"),\n",
       "  Document(metadata={'source': 'https://www.imdb.com/title/tt0065513'}, page_content='a junction alongside another lorry transporting another hapless man-in-a-box our guy can barely keep a grip as we finally have our suspicions\\nconfirmed and realize that everything is wrong and something sinister is afoot...Who has kidnapped him? Where are they going? What terrible fate is about to befall him?The film is a triumph, telling a simple story with an excellent central performance from the lead that has to deliver a huge range of emotions\\nthrough body language without turning the whole film into an embarrassing pantomime. The photography sets this apart from the usual TV\\nmovie fare and the varied score, which ranges from playful for the comedic opening to apocalyptic during the twisted finale, all help to create a thrill\\nride with a shocking ending that will stay with you for a good while afterwards.'),\n",
       "  Document(metadata={'id': 6, 'relevance_score': 0.9965428, 'source': 'https://www.imdb.com/title/tt0955308'}, page_content=\"Plot: The film opens in the middle of the night as the Sherwood robbers run through the forest. The robbers run through Nottingham and put their horses into a stable. Lady Marion (Cate Blanchett), wife of Sir Robert Loxley, rouses her servants and demands that they open the gates. Taking an arrow and setting it aflame, she shoots it at the feet of one of the robbers and tells them that she can see them. After they leave, she realizes that the seeds and grain of Nottingham were stolen and that they won't have anything to plant come spring.Robin Longstride (Russell Crowe) leads his men through the forest back to their own camp. When he fought in the Crusades, Robin was only an archer. As English troops lead an assault on a French stronghold, Robin and his men fight valiantly alongside King Richard the Lionheart (Danny Huston). A young archer attempts to plant a bomb bag on the portcullis but gets stuck. Robin races to him and rescues him before the French can kill him. Robin then\"),\n",
       "  Document(metadata={'source': 'https://www.imdb.com/title/tt0107983'}, page_content='Bartender: You ever seen a ghost? There\\'s this guy. Comes in here. Every May 1st. Every May 1st, every December 1st. Like clock work. What\\'s he want? Well, frankly, I ain\\'t exactly sure. He had the strangest story to tell. He left this here and I keep it for him. How do I know he\\'ll be back? What\\'s that? A woman was involved? [trying on a ring] Hm, just fits. I was married once myself. Beautiful girl. By the way my name is Jim Doherty. I run this place. His name? Sure. His name is Jack Grimaldi. Hey, there he is now!We see Jack Grimaldi (Gary Oldman) driving down the road in a neat looking suit. Jim Doherty tells us that \"Jack was a romantic guy, big dreams.The problem was, there was always a little daylight between his dreams and his wallet. See, he was a working stiff, 56 grand a year and never made it past Sergeant. And, every day he looked at a little of this, (We see Jack responding to a grisly murder scene) and then he looked at too much of that (We see Jack on a stakeout'),\n",
       "  Document(metadata={'source': 'https://www.imdb.com/title/tt0433383'}, page_content='Plot: The movie begins on Oct. 25, 1958, at a fancy dinner tribute to Edward R. Murrow (David Strathairn). Its the usual gala affair, everyone is dressed up and looking expensive. Ed Murrow is introduced as a hero who fought against McCarthyism. Ed comes out and proceeds to make a speech about how journalism has become occupied with presenting only good news and how journalists have succumb to escapism, losing touch with the real world. This attack makes the audience uncomfortable and Fred Friendly (George Clooney) looks like hes having a good time.Flashback to 1953. Joe Wershba (Robert Downey Jr.) and Shirley Wershba (Patricia Clarkson) are alone in the copy room; someone walks in and jokingly asks what people might think. Joe takes Shirley aside and tells her about a loyalty (to McCarthy or the government) oath she must sign, or he may get fired. After some thought, she agrees and they kiss.The newsmen are in a conference room, trying to decide news pieces for the next show. People'),\n",
       "  Document(metadata={'source': 'https://www.imdb.com/title/tt0397892'}, page_content=\"He then meets Mittens (Susie Essman), a female alley cat who bullies pigeons out of their food. Bolt (believing she's one of Calico's minions) forces Mittens to help him get back to Penny, and after Bolt ends up knocking Mittens unconscious into a letter box, the two start their epic journey westward on a truck. In Hollywood, Penny is deeply saddened over Bolt's disappearance but is convinced by the studio to continue filming with a Bolt lookalike.\"),\n",
       "  Document(metadata={'source': 'https://www.imdb.com/title/tt0037774'}, page_content='Later, when the jig is up, Bugs rides in on a white horse, dressed as Brünhilde—from Wagnerian opera, to the tune of the \"Pilgrims’ Chorus\" from Tannhäuser). Entranced, Göring responds by dressing up as Siegfried. The two dance, before Bugs once again makes a fool of Göring and escapes (a scene later re-used in What\\'s Opera, Doc?, co-starring Elmer Fudd).'),\n",
       "  Document(metadata={'source': 'https://www.imdb.com/title/tt1242530'}, page_content=\"Title: What's Your Raashee?\\nTags: prank\\nPlot: In a quaint rural village, an elderly man receives a card in the mail from his youngest grandson, Yogesh (Harman Baweja). In Mumbai, Yogesh's family consults an astrologer to learn if their eldest son, Jitu (Dilip Joshi), a debtor, will go to jail, and also give him Yogesh's birthdate to learn his future. They are astonished to hear that Yogesh will inherit a fortune if he is married on the 20th of that month; the phone rings, and the family is overjoyed to hear that Yogesh's grandfather has made him his sole heir.\"),\n",
       "  Document(metadata={'source': 'https://www.imdb.com/title/tt1104123'}, page_content='fire before it reached the townspeople. Mathayus and Ari go to the King\\'s quarters to confront him. Once they encounter him, Mathayus and Sargon fight hand-to-hand, while Ari writes down the details for his epic poem. Mathayus asks for the magical sword but Ari betrays him by throwing the sword to Sargon. Mathayus uses his dagger to break the sword, amazing Sargon. Ari then gives Mathayus the real sword. It was all part of Ari\\'s plan to fool Sargon. Ari then tells Sargon, \"Never trust a Greek.\" Sargon transforms into the monstrous Scorpion King, but after a long battle Mathayus succeeds in killing the monster by impaling him with the sword. Sargon is dead. Astarte confronts Mathayus, and she threatens to kill him, and he tells her he will join her soon enough.The day after, Hammurabi\\'s son is declared the true emperor. Mathayus finally kisses Layla while recovering from his wounds. Layla admits she no longer wishes to lead the life of a soldier and wants to settle down. The movie ends'),\n",
       "  Document(metadata={'source': 'https://www.imdb.com/title/tt0081163'}, page_content='Plot: Set in the fictional English village of St. Mary Mead, home of Miss Jane Marple (Angela Lansbury), in 1953. The movie opens with a black-and-white scene from a movie being played at the local community house titled \\'Meeting at Midnight\\' where a detective in the movie assembles a group of people together at a quait country mansion to root out them for the murder of the wealthy owner. The film breaks which depresses the local audience, until Miss Marple reveals, according to her natural skill of observation, who the murderer in the movie is.Meanwhile, a big Hollywood production company arrives to film a costume movie about Mary, Queen of Scots and Elizabeth I with two famous movie stars, Marina Rudd (Elizabeth Taylor) and Lola Brewster (Kim Novak). Marina and Lola are old rivals who hate each other. Marina, who is making a much heralded comeback after a prolonged \"illness\" and retirement, when she, in reality, has had a nervous breakdown, and her husband, Jason Rudd (Rock Hudson),'),\n",
       "  Document(metadata={'source': 'https://www.imdb.com/title/tt0958860'}, page_content='Oakwood Arms Hotel. A phone rings in a room. Val Resnick answers and tells the desk clerk to send her up to his room. The woman is directed to a hotel room. Val\\'s phone rings again. (\"Send her up. What\\'s the problem?\") But it\\'s someone else, with news about Stegman. Pearl arrives at the door. They have a sado-masochistic exchange with both of them punching each other in their faces. The voice on the phone tells Val about Stegman getting a visit from some heavy. Resnick arranges a meeting.Val Resnick arrives by taxi at a crappy looking restaurant to meet Stegman who tells him about his visit with Porter. Val asks about the guy. \"What\\'d he say?\" asks Val. \"I just got the feeling he\\'d like to kill you, that\\'s all\", says Stegman. Resnick is rattled. He makes a threatening move against another customer. Stegman smoothes things over and they leave.Inside a bar at the Regal Hotel, Porter is looking for Michael, who turns out to be a young but smarmy bartender. Porter asks about a woman named')],\n",
       " 'answer': 'It appears that you have provided a list of movie titles with their respective plots. Here\\'s a brief summary of each:\\n\\n1. **What\\'s Opera, Doc?** (1957) - An animated short film featuring Bugs Bunny and Elmer Fudd in a parody of Richard Wagner\\'s opera \"Der Ring des Nibelungen\".\\n2. **What\\'s Your Raashee?** (2013) - A Bollywood comedy-drama about an elderly man who receives a card from his grandson, revealing that he will inherit a fortune if married on a specific date.\\n3. **The Scorpion King** (2002) - An action-adventure film based on the legend of Mathayus, a warrior who becomes the king of Babylon and must defeat the monstrous Scorpion King.\\n4. **Murder She Wrote: A Murder is Announced** (1984) - A mystery film featuring Miss Jane Marple, who solves a murder at a country mansion by using her observational skills.\\n5. **The Big Sleep** (1946) - A film noir mystery based on the novel by Raymond Chandler, about a private investigator named Philip Marlowe who becomes embroiled in a complex case involving murder, blackmail, and seduction.\\n\\nPlease note that some of these plots may be brief summaries or have been condensed for brevity. If you\\'d like more information or clarification on any of these titles, feel free to ask!'}"
      ]
     },
     "execution_count": 10,
     "metadata": {},
     "output_type": "execute_result"
    }
   ],
   "source": [
    "chain_hybrid.invoke({\"input\": \"What's a good movie about an epic viking?\"})"
   ]
  }
 ],
 "metadata": {
  "kernelspec": {
   "display_name": "Python 3",
   "language": "python",
   "name": "python3"
  },
  "language_info": {
   "codemirror_mode": {
    "name": "ipython",
    "version": 3
   },
   "file_extension": ".py",
   "mimetype": "text/x-python",
   "name": "python",
   "nbconvert_exporter": "python",
   "pygments_lexer": "ipython3",
   "version": "3.10.11"
  }
 },
 "nbformat": 4,
 "nbformat_minor": 2
}
