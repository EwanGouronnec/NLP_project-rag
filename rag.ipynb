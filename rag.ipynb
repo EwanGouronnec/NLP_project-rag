{
 "cells": [
  {
   "cell_type": "markdown",
   "metadata": {},
   "source": [
    "# Mécanismes de RAG avancés"
   ]
  },
  {
   "cell_type": "code",
   "execution_count": 3,
   "metadata": {},
   "outputs": [],
   "source": [
    "from models import Models\n",
    "\n",
    "# Initialize the models\n",
    "models = Models()\n",
    "embeddings = models.embeddings_ollama\n",
    "llm = models.model_ollama"
   ]
  },
  {
   "cell_type": "code",
   "execution_count": 4,
   "metadata": {},
   "outputs": [],
   "source": [
    "from langchain.vectorstores import FAISS\n",
    "\n",
    "# Initialize the vector store\n",
    "new_vector_store = FAISS.load_local(\n",
    "    \"faiss_index\",\n",
    "    embeddings,\n",
    "    allow_dangerous_deserialization=True,\n",
    ")"
   ]
  },
  {
   "cell_type": "code",
   "execution_count": 5,
   "metadata": {},
   "outputs": [],
   "source": [
    "# Define the chat prompt\n",
    "from langchain_core.prompts import ChatPromptTemplate\n",
    "\n",
    "prompt = ChatPromptTemplate.from_messages(\n",
    "    [\n",
    "        (\"system\", \"You are a helpful assistant. Answer the question based only the data provided.\"),\n",
    "        (\"human\", \"Use the user question {input} to answer the question. Use only the {context} to answer the question.\")\n",
    "    ]\n",
    ")"
   ]
  },
  {
   "cell_type": "markdown",
   "metadata": {},
   "source": [
    "Premier test sans mécanisme avancé"
   ]
  },
  {
   "cell_type": "code",
   "execution_count": 18,
   "metadata": {},
   "outputs": [],
   "source": [
    "from langchain.chains.combine_documents import create_stuff_documents_chain\n",
    "from langchain.chains import create_retrieval_chain\n",
    "\n",
    "# Define the retrieval chain\n",
    "retriever = new_vector_store.as_retriever(\n",
    "    search_type=\"similarity\",\n",
    "    search_kwargs={\"k\": 2},\n",
    ")\n",
    "combine_docs_chain = create_stuff_documents_chain(\n",
    "    llm, prompt\n",
    ")\n",
    "retrieval_chain = create_retrieval_chain(retriever, combine_docs_chain)"
   ]
  },
  {
   "cell_type": "code",
   "execution_count": 22,
   "metadata": {},
   "outputs": [
    {
     "name": "stderr",
     "output_type": "stream",
     "text": [
      "INFO:httpx:HTTP Request: POST http://127.0.0.1:11434/api/embed \"HTTP/1.1 200 OK\"\n",
      "INFO:httpx:HTTP Request: POST http://127.0.0.1:11434/api/chat \"HTTP/1.1 200 OK\"\n"
     ]
    },
    {
     "data": {
      "text/plain": [
       "{'input': \"What's a good movie about an epic viking?\",\n",
       " 'context': [Document(id='56a385d5-d727-446a-a102-18d4cffa6c92', metadata={'source': 'https://www.imdb.com/title/tt1494639'}, page_content=\"Title: Beowulf\\nTags: psychedelic, avant garde, magical realism\\nPlot: Set in 507, Beowulf is a legendary Geatish warrior who travels to Denmark with his band of soldiers, including his best friend, Wiglaf. They meet King Hrothgar, who needs a hero to slay Grendel, a hideously malformed troll-like creature with appalling strength and cunning. Grendel attacks Heorot, Hrothgar's mead hall, whenever the Danes held a celebration, and Hrothgar has been forced to close the hall. Upon arriving, Beowulf becomes attracted to Hrothgar's wife, Queen Wealtheow, who reciprocates his interest.\"),\n",
       "  Document(id='be508309-deb9-4d04-92cb-f029d2770cc2', metadata={'source': 'https://www.imdb.com/title/tt0064000'}, page_content=\"Title: Alfred the Great\\nTags: action\\nPlot: When the Vikings invade England, Alfred (David Hemmings) is about to take his priesthood vows. However, his brother, King Æthelred of Wessex (Alan Dobie), summons him to his aid and Alfred leaves for battle, where he appears to be a great tactician. Æthelred dies shortly after Alfred marries the Mercian princess Aelhswith (Prunella Ransome). Torn between following intellect or passion, Alfred at first refuses to succeed Æthelred and consummate his marriage, but is forced to accept kingship after the Danes attack again.\\nRealising the weak position of Wessex, Alfred goes into negotiations with Guthrum (Michael York), leader of the Vikings. Aelhswith on the other hand agrees to become Guthrum's hostage and they start to develop feelings for each other.\")],\n",
       " 'answer': 'Based on your interest in an epic Viking movie, I would recommend \"Beowulf\". It is a legendary tale about a Geatish warrior who travels to Denmark to slay Grendel, a monstrous creature that has been terrorizing King Hrothgar\\'s mead hall. The film offers a mix of action, drama, and fantasy elements, making it an exciting watch for fans of epic Viking stories.'}"
      ]
     },
     "execution_count": 22,
     "metadata": {},
     "output_type": "execute_result"
    }
   ],
   "source": [
    "retrieval_chain.invoke({\"input\": \"What's a good movie about an epic viking?\"})"
   ]
  },
  {
   "cell_type": "markdown",
   "metadata": {},
   "source": [
    "# 1. Reranking"
   ]
  },
  {
   "cell_type": "markdown",
   "metadata": {},
   "source": [
    "documentation [FlashRank reranker](https://python.langchain.com/docs/integrations/retrievers/flashrank-reranker/) sur le site de LangChain"
   ]
  },
  {
   "cell_type": "markdown",
   "metadata": {},
   "source": [
    "The Contextual Compression Retriever passes queries to the base retriever, takes the initial documents and passes them through the Document Compressor. The Document Compressor takes a list of documents and shortens it by reducing the contents of documents or dropping documents altogether."
   ]
  },
  {
   "cell_type": "code",
   "execution_count": 6,
   "metadata": {},
   "outputs": [
    {
     "name": "stdout",
     "output_type": "stream",
     "text": [
      "Note: you may need to restart the kernel to use updated packages.\n"
     ]
    }
   ],
   "source": [
    "%pip install -qU  flashrank"
   ]
  },
  {
   "cell_type": "code",
   "execution_count": 7,
   "metadata": {},
   "outputs": [],
   "source": [
    "# Reranking with Flashrank\n",
    "\n",
    "from langchain.retrievers.document_compressors import FlashrankRerank\n",
    "from langchain.retrievers import ContextualCompressionRetriever\n",
    "\n",
    "# Compressor for reranking\n",
    "compressor = FlashrankRerank()\n",
    "compression_retriever = ContextualCompressionRetriever(\n",
    "    base_compressor=compressor,\n",
    "    base_retriever=retriever\n",
    ")\n",
    "chain_reranking = create_retrieval_chain(compression_retriever, combine_docs_chain)"
   ]
  },
  {
   "cell_type": "code",
   "execution_count": 7,
   "metadata": {},
   "outputs": [
    {
     "name": "stderr",
     "output_type": "stream",
     "text": [
      "INFO:httpx:HTTP Request: POST http://127.0.0.1:11434/api/embed \"HTTP/1.1 200 OK\"\n",
      "INFO:httpx:HTTP Request: POST http://127.0.0.1:11434/api/chat \"HTTP/1.1 200 OK\"\n"
     ]
    },
    {
     "data": {
      "text/plain": [
       "{'input': \"What's a good movie about an epic viking?\",\n",
       " 'context': [Document(metadata={'id': 4, 'relevance_score': 0.9985577, 'source': 'https://www.imdb.com/title/tt0371552'}, page_content='Plot: As the story begins, the Vikings are depressed because in raid after raid they find the locations devoid of people. Cryptograf, an advisor to Viking chief Timandahaf, says that the enemies are always gone because, \"Fear gives them wings\". Timandahaf excitedly concludes that they must find a \"Champion of Fear\", who can teach them to be great cowards so they can fly, making them invincible. The chief says he\\'ll give anything to whoever can bring him this Champion of Fear. Cryptograf hatches a secret plan to seize power and tells the chief they\\'ll find the Champion of Fear in Gaul.During a typical day in the Gaulish village, chief Vitalstatistix announces the imminent arrival of his nephew Justforkix, who is to be trained to be a man. When Justforkix arrives from Parisium, he doesn\\'t look like warrior material. He uses his bird SMS (Shortmessageservix) to send messages to his \"babes\". Besides chasing girls, he\\'s into hi-tech, nightlife, and dancing and he\\'s a vegetarian, much to'),\n",
       "  Document(metadata={'id': 1, 'relevance_score': 0.9984169, 'source': 'https://www.imdb.com/title/tt0064000'}, page_content=\"Title: Alfred the Great\\nTags: action\\nPlot: When the Vikings invade England, Alfred (David Hemmings) is about to take his priesthood vows. However, his brother, King Æthelred of Wessex (Alan Dobie), summons him to his aid and Alfred leaves for battle, where he appears to be a great tactician. Æthelred dies shortly after Alfred marries the Mercian princess Aelhswith (Prunella Ransome). Torn between following intellect or passion, Alfred at first refuses to succeed Æthelred and consummate his marriage, but is forced to accept kingship after the Danes attack again.\\nRealising the weak position of Wessex, Alfred goes into negotiations with Guthrum (Michael York), leader of the Vikings. Aelhswith on the other hand agrees to become Guthrum's hostage and they start to develop feelings for each other.\"),\n",
       "  Document(metadata={'id': 6, 'relevance_score': 0.9965428, 'source': 'https://www.imdb.com/title/tt0955308'}, page_content=\"Plot: The film opens in the middle of the night as the Sherwood robbers run through the forest. The robbers run through Nottingham and put their horses into a stable. Lady Marion (Cate Blanchett), wife of Sir Robert Loxley, rouses her servants and demands that they open the gates. Taking an arrow and setting it aflame, she shoots it at the feet of one of the robbers and tells them that she can see them. After they leave, she realizes that the seeds and grain of Nottingham were stolen and that they won't have anything to plant come spring.Robin Longstride (Russell Crowe) leads his men through the forest back to their own camp. When he fought in the Crusades, Robin was only an archer. As English troops lead an assault on a French stronghold, Robin and his men fight valiantly alongside King Richard the Lionheart (Danny Huston). A young archer attempts to plant a bomb bag on the portcullis but gets stuck. Robin races to him and rescues him before the French can kill him. Robin then\")],\n",
       " 'answer': 'Based on your interest in an epic Viking movie, I\\'d recommend \"Robin Hood: Prince of Thieves\" (1991). While it\\'s not exclusively about a Viking, it features Russell Crowe as Robin Longstride, an English archer who fights alongside King Richard the Lionheart during the Crusades. The film has plenty of action-packed scenes and epic battles that might scratch your Viking itch.\\n\\nHowever, if you\\'re looking for a more traditional Viking movie experience, I\\'d suggest \"Alfred the Great\" (1969). This historical drama tells the story of Alfred, an English king who must navigate the complexities of war, politics, and personal relationships. The film features Michael York as Guthrum, a Viking leader, and explores themes of power, loyalty, and identity.\\n\\nBoth movies offer a unique take on the Viking era, but if you\\'re looking for something more action-oriented, \"Robin Hood: Prince of Thieves\" might be the better choice.'}"
      ]
     },
     "execution_count": 7,
     "metadata": {},
     "output_type": "execute_result"
    }
   ],
   "source": [
    "chain_reranking.invoke({\"input\": \"What's a good movie about an epic viking?\"})"
   ]
  },
  {
   "cell_type": "markdown",
   "metadata": {},
   "source": [
    "# 2. Hybrid Search"
   ]
  },
  {
   "cell_type": "markdown",
   "metadata": {},
   "source": [
    "Hybrid Search avec ensemble Retrieval, issue de [ce blog](https://medium.com/@nadikapoudel16/advanced-rag-implementation-using-hybrid-search-reranking-with-zephyr-alpha-llm-4340b55fef22)\n",
    "\n",
    "[Documentation BM25](https://python.langchain.com/docs/integrations/retrievers/bm25/) sur langchain"
   ]
  },
  {
   "cell_type": "code",
   "execution_count": 1,
   "metadata": {},
   "outputs": [
    {
     "name": "stdout",
     "output_type": "stream",
     "text": [
      "Path to dataset files: C:\\Users\\CYTech Student\\.cache\\kagglehub\\datasets\\cryptexcode\\mpst-movie-plot-synopses-with-tags\\versions\\1\n",
      "14828 movies loaded\n",
      "2966 documents loaded\n",
      "21211 splits created\n"
     ]
    }
   ],
   "source": [
    "from data import load_movie_data, prepare_movie_data, split_movie_data\n",
    "df = load_movie_data()\n",
    "movies = prepare_movie_data(df)\n",
    "text_splits = split_movie_data(movies)"
   ]
  },
  {
   "cell_type": "code",
   "execution_count": 4,
   "metadata": {},
   "outputs": [
    {
     "name": "stdout",
     "output_type": "stream",
     "text": [
      "Collecting rank_bm25\n",
      "  Downloading rank_bm25-0.2.2-py3-none-any.whl.metadata (3.2 kB)\n",
      "Requirement already satisfied: numpy in c:\\users\\cytech student\\appdata\\local\\packages\\pythonsoftwarefoundation.python.3.10_qbz5n2kfra8p0\\localcache\\local-packages\\python310\\site-packages (from rank_bm25) (1.26.4)\n",
      "Downloading rank_bm25-0.2.2-py3-none-any.whl (8.6 kB)\n",
      "Installing collected packages: rank_bm25\n",
      "Successfully installed rank_bm25-0.2.2\n",
      "Note: you may need to restart the kernel to use updated packages.\n"
     ]
    }
   ],
   "source": [
    "%pip install rank_bm25"
   ]
  },
  {
   "cell_type": "code",
   "execution_count": 15,
   "metadata": {},
   "outputs": [
    {
     "name": "stderr",
     "output_type": "stream",
     "text": [
      "[nltk_data] Downloading package punkt_tab to C:\\Users\\CYTech\n",
      "[nltk_data]     Student\\AppData\\Roaming\\nltk_data...\n",
      "[nltk_data]   Unzipping tokenizers\\punkt_tab.zip.\n"
     ]
    },
    {
     "data": {
      "text/plain": [
       "True"
      ]
     },
     "execution_count": 15,
     "metadata": {},
     "output_type": "execute_result"
    }
   ],
   "source": [
    "import nltk\n",
    "nltk.download(\"punkt_tab\")"
   ]
  },
  {
   "cell_type": "code",
   "execution_count": 19,
   "metadata": {},
   "outputs": [],
   "source": [
    "from langchain.retrievers import BM25Retriever, EnsembleRetriever\n",
    "from nltk.tokenize import word_tokenize\n",
    "\n",
    "# Define the BM25 retriever\n",
    "keyword_retriever = BM25Retriever.from_documents(\n",
    "    text_splits,\n",
    "    k=2,\n",
    "    preprocess_func=word_tokenize,\n",
    ")\n",
    "\n",
    "# Combine the BM25 and base retrievers\n",
    "ensemble_retriever = EnsembleRetriever(\n",
    "    retrievers=[retriever, keyword_retriever],\n",
    "    weights=[0.5, 0.5]\n",
    ")\n",
    "chain_hybrid = create_retrieval_chain(ensemble_retriever, combine_docs_chain)\n",
    "\n",
    "# Combine the BM25 and Flashrank retrievers\n",
    "ensemble_retriever_rerank = EnsembleRetriever(\n",
    "    retrievers=[compression_retriever, keyword_retriever],\n",
    "    weights=[0.5, 0.5]\n",
    ")\n",
    "chain_hybrid_reranking = create_retrieval_chain(ensemble_retriever_rerank, combine_docs_chain)"
   ]
  },
  {
   "cell_type": "code",
   "execution_count": 20,
   "metadata": {},
   "outputs": [
    {
     "name": "stderr",
     "output_type": "stream",
     "text": [
      "INFO:httpx:HTTP Request: POST http://127.0.0.1:11434/api/embed \"HTTP/1.1 200 OK\"\n",
      "INFO:httpx:HTTP Request: POST http://127.0.0.1:11434/api/chat \"HTTP/1.1 200 OK\"\n"
     ]
    },
    {
     "data": {
      "text/plain": [
       "{'input': \"What's a good movie about an epic viking?\",\n",
       " 'context': [Document(id='56a385d5-d727-446a-a102-18d4cffa6c92', metadata={'source': 'https://www.imdb.com/title/tt1494639'}, page_content=\"Title: Beowulf\\nTags: psychedelic, avant garde, magical realism\\nPlot: Set in 507, Beowulf is a legendary Geatish warrior who travels to Denmark with his band of soldiers, including his best friend, Wiglaf. They meet King Hrothgar, who needs a hero to slay Grendel, a hideously malformed troll-like creature with appalling strength and cunning. Grendel attacks Heorot, Hrothgar's mead hall, whenever the Danes held a celebration, and Hrothgar has been forced to close the hall. Upon arriving, Beowulf becomes attracted to Hrothgar's wife, Queen Wealtheow, who reciprocates his interest.\"),\n",
       "  Document(metadata={'source': 'https://www.imdb.com/title/tt0065513'}, page_content='a junction alongside another lorry transporting another hapless man-in-a-box our guy can barely keep a grip as we finally have our suspicions\\nconfirmed and realize that everything is wrong and something sinister is afoot...Who has kidnapped him? Where are they going? What terrible fate is about to befall him?The film is a triumph, telling a simple story with an excellent central performance from the lead that has to deliver a huge range of emotions\\nthrough body language without turning the whole film into an embarrassing pantomime. The photography sets this apart from the usual TV\\nmovie fare and the varied score, which ranges from playful for the comedic opening to apocalyptic during the twisted finale, all help to create a thrill\\nride with a shocking ending that will stay with you for a good while afterwards.'),\n",
       "  Document(id='be508309-deb9-4d04-92cb-f029d2770cc2', metadata={'source': 'https://www.imdb.com/title/tt0064000'}, page_content=\"Title: Alfred the Great\\nTags: action\\nPlot: When the Vikings invade England, Alfred (David Hemmings) is about to take his priesthood vows. However, his brother, King Æthelred of Wessex (Alan Dobie), summons him to his aid and Alfred leaves for battle, where he appears to be a great tactician. Æthelred dies shortly after Alfred marries the Mercian princess Aelhswith (Prunella Ransome). Torn between following intellect or passion, Alfred at first refuses to succeed Æthelred and consummate his marriage, but is forced to accept kingship after the Danes attack again.\\nRealising the weak position of Wessex, Alfred goes into negotiations with Guthrum (Michael York), leader of the Vikings. Aelhswith on the other hand agrees to become Guthrum's hostage and they start to develop feelings for each other.\"),\n",
       "  Document(metadata={'source': 'https://www.imdb.com/title/tt0053472'}, page_content='=== Closing dialogue ===\\nMichel\\'s death scene is one of the most iconic scenes in the film, but the film\\'s final lines of dialogue are the source of some confusion for English-speaking audiences. In some translations, it is unclear whether Michel is condemning Patricia, or alternatively condemning the world in general.\\nAs Patricia and Detective Vital catch up with the dying Michel, they have the following dialogue:\\nMICHEL: C\\'est vraiment dégueulasse.\\nPATRICIA: Qu\\'est-ce qu\\'il a dit?\\nVITAL: Il a dit que vous êtes vraiment \"une dégueulasse\".\\nPATRICIA: Qu\\'est-ce que c\\'est \"dégueulasse\"?\\nIn the English captioning of the 2001 Fox-Lorber Region One DVD, \"dégueulasse\" is translated as \"scumbag\", producing the following dialogue:\\nMICHEL: It\\'s disgusting, really.\\nPATRICIA: What did he say?\\nVITAL: He said, \"You\\'re a real scumbag\".\\nPATRICIA: What\\'s a scumbag?\\nThe 2007 Criterion Collection Region One DVD uses a less literal translation:\\nMICHEL: Makes me want to puke.\\nPATRICIA: What did he say?')],\n",
       " 'answer': 'Based on your interest in an epic Viking movie, I would recommend \"Beowulf\". It\\'s a legendary story about a Geatish warrior who travels to Denmark with his band of soldiers to slay Grendel, a hideously malformed troll-like creature. The film is a triumph, telling a simple yet powerful story with excellent central performances and stunning photography and music.'}"
      ]
     },
     "execution_count": 20,
     "metadata": {},
     "output_type": "execute_result"
    }
   ],
   "source": [
    "chain_hybrid.invoke({\"input\": \"What's a good movie about an epic viking?\"})"
   ]
  },
  {
   "cell_type": "code",
   "execution_count": 21,
   "metadata": {},
   "outputs": [
    {
     "name": "stderr",
     "output_type": "stream",
     "text": [
      "INFO:httpx:HTTP Request: POST http://127.0.0.1:11434/api/embed \"HTTP/1.1 200 OK\"\n",
      "INFO:httpx:HTTP Request: POST http://127.0.0.1:11434/api/chat \"HTTP/1.1 200 OK\"\n"
     ]
    },
    {
     "data": {
      "text/plain": [
       "{'input': \"What's a good movie about an epic viking?\",\n",
       " 'context': [Document(metadata={'id': 4, 'relevance_score': 0.9985577, 'source': 'https://www.imdb.com/title/tt0371552'}, page_content='Plot: As the story begins, the Vikings are depressed because in raid after raid they find the locations devoid of people. Cryptograf, an advisor to Viking chief Timandahaf, says that the enemies are always gone because, \"Fear gives them wings\". Timandahaf excitedly concludes that they must find a \"Champion of Fear\", who can teach them to be great cowards so they can fly, making them invincible. The chief says he\\'ll give anything to whoever can bring him this Champion of Fear. Cryptograf hatches a secret plan to seize power and tells the chief they\\'ll find the Champion of Fear in Gaul.During a typical day in the Gaulish village, chief Vitalstatistix announces the imminent arrival of his nephew Justforkix, who is to be trained to be a man. When Justforkix arrives from Parisium, he doesn\\'t look like warrior material. He uses his bird SMS (Shortmessageservix) to send messages to his \"babes\". Besides chasing girls, he\\'s into hi-tech, nightlife, and dancing and he\\'s a vegetarian, much to'),\n",
       "  Document(metadata={'source': 'https://www.imdb.com/title/tt0065513'}, page_content='a junction alongside another lorry transporting another hapless man-in-a-box our guy can barely keep a grip as we finally have our suspicions\\nconfirmed and realize that everything is wrong and something sinister is afoot...Who has kidnapped him? Where are they going? What terrible fate is about to befall him?The film is a triumph, telling a simple story with an excellent central performance from the lead that has to deliver a huge range of emotions\\nthrough body language without turning the whole film into an embarrassing pantomime. The photography sets this apart from the usual TV\\nmovie fare and the varied score, which ranges from playful for the comedic opening to apocalyptic during the twisted finale, all help to create a thrill\\nride with a shocking ending that will stay with you for a good while afterwards.'),\n",
       "  Document(metadata={'id': 1, 'relevance_score': 0.9984169, 'source': 'https://www.imdb.com/title/tt0064000'}, page_content=\"Title: Alfred the Great\\nTags: action\\nPlot: When the Vikings invade England, Alfred (David Hemmings) is about to take his priesthood vows. However, his brother, King Æthelred of Wessex (Alan Dobie), summons him to his aid and Alfred leaves for battle, where he appears to be a great tactician. Æthelred dies shortly after Alfred marries the Mercian princess Aelhswith (Prunella Ransome). Torn between following intellect or passion, Alfred at first refuses to succeed Æthelred and consummate his marriage, but is forced to accept kingship after the Danes attack again.\\nRealising the weak position of Wessex, Alfred goes into negotiations with Guthrum (Michael York), leader of the Vikings. Aelhswith on the other hand agrees to become Guthrum's hostage and they start to develop feelings for each other.\"),\n",
       "  Document(metadata={'source': 'https://www.imdb.com/title/tt0053472'}, page_content='=== Closing dialogue ===\\nMichel\\'s death scene is one of the most iconic scenes in the film, but the film\\'s final lines of dialogue are the source of some confusion for English-speaking audiences. In some translations, it is unclear whether Michel is condemning Patricia, or alternatively condemning the world in general.\\nAs Patricia and Detective Vital catch up with the dying Michel, they have the following dialogue:\\nMICHEL: C\\'est vraiment dégueulasse.\\nPATRICIA: Qu\\'est-ce qu\\'il a dit?\\nVITAL: Il a dit que vous êtes vraiment \"une dégueulasse\".\\nPATRICIA: Qu\\'est-ce que c\\'est \"dégueulasse\"?\\nIn the English captioning of the 2001 Fox-Lorber Region One DVD, \"dégueulasse\" is translated as \"scumbag\", producing the following dialogue:\\nMICHEL: It\\'s disgusting, really.\\nPATRICIA: What did he say?\\nVITAL: He said, \"You\\'re a real scumbag\".\\nPATRICIA: What\\'s a scumbag?\\nThe 2007 Criterion Collection Region One DVD uses a less literal translation:\\nMICHEL: Makes me want to puke.\\nPATRICIA: What did he say?'),\n",
       "  Document(metadata={'id': 6, 'relevance_score': 0.9965428, 'source': 'https://www.imdb.com/title/tt0955308'}, page_content=\"Plot: The film opens in the middle of the night as the Sherwood robbers run through the forest. The robbers run through Nottingham and put their horses into a stable. Lady Marion (Cate Blanchett), wife of Sir Robert Loxley, rouses her servants and demands that they open the gates. Taking an arrow and setting it aflame, she shoots it at the feet of one of the robbers and tells them that she can see them. After they leave, she realizes that the seeds and grain of Nottingham were stolen and that they won't have anything to plant come spring.Robin Longstride (Russell Crowe) leads his men through the forest back to their own camp. When he fought in the Crusades, Robin was only an archer. As English troops lead an assault on a French stronghold, Robin and his men fight valiantly alongside King Richard the Lionheart (Danny Huston). A young archer attempts to plant a bomb bag on the portcullis but gets stuck. Robin races to him and rescues him before the French can kill him. Robin then\")],\n",
       " 'answer': 'I\\'d recommend \"Alfred the Great\" as a good movie about an epic Viking, although it\\'s not exclusively about Vikings. The film is set in England during the 9th century and tells the story of Alfred, a young priest who becomes king after his brother\\'s death. While it doesn\\'t feature a traditional Viking hero, it does explore themes of leadership, power, and identity that might appeal to fans of epic Viking stories.\\n\\nHowever, if you\\'re looking for a more traditional Viking film, I\\'d suggest \"Alfred the Great\" is not the best fit. Instead, I\\'d recommend checking out other films like \"The 13th Warrior\" (1999) or \"Erik the Viking\" (1989), which feature epic Viking heroes and stories.\\n\\nBut if you\\'re open to a historical drama with some action and adventure elements, \"Alfred the Great\" is definitely worth watching. It\\'s a well-crafted film with strong performances from its cast, including Russell Crowe and Cate Blanchett.'}"
      ]
     },
     "execution_count": 21,
     "metadata": {},
     "output_type": "execute_result"
    }
   ],
   "source": [
    "chain_hybrid_reranking.invoke({\"input\": \"What's a good movie about an epic viking?\"})"
   ]
  }
 ],
 "metadata": {
  "kernelspec": {
   "display_name": "Python 3",
   "language": "python",
   "name": "python3"
  },
  "language_info": {
   "codemirror_mode": {
    "name": "ipython",
    "version": 3
   },
   "file_extension": ".py",
   "mimetype": "text/x-python",
   "name": "python",
   "nbconvert_exporter": "python",
   "pygments_lexer": "ipython3",
   "version": "3.10.11"
  }
 },
 "nbformat": 4,
 "nbformat_minor": 2
}
